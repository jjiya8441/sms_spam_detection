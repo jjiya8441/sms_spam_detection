{
  "cells": [
    {
      "cell_type": "code",
      "execution_count": 74,
      "id": "d7218fee",
      "metadata": {
        "execution": {
          "iopub.execute_input": "2023-10-31T07:42:25.402985Z",
          "iopub.status.busy": "2023-10-31T07:42:25.402633Z",
          "iopub.status.idle": "2023-10-31T07:42:27.834319Z",
          "shell.execute_reply": "2023-10-31T07:42:27.833538Z"
        },
        "id": "d7218fee",
        "papermill": {
          "duration": 2.447299,
          "end_time": "2023-10-31T07:42:27.836646",
          "exception": false,
          "start_time": "2023-10-31T07:42:25.389347",
          "status": "completed"
        },
        "tags": []
      },
      "outputs": [],
      "source": [
        "import pandas as pd\n",
        "import numpy as np\n",
        "from matplotlib import pyplot as plt\n",
        "import seaborn as sns\n",
        "import nltk\n",
        "import os\n",
        "sns.set_style('whitegrid')\n",
        "import warnings\n",
        "warnings.filterwarnings('ignore')"
      ]
    },
    {
      "cell_type": "code",
      "source": [
        "from google.colab import files\n",
        "\n",
        "\n",
        "uploaded = files.upload()"
      ],
      "metadata": {
        "id": "3kxwLUv9ERYW",
        "colab": {
          "base_uri": "https://localhost:8080/",
          "height": 73
        },
        "outputId": "a8bd5e4d-f7e7-4fcf-908c-7bbce3e34e0d"
      },
      "id": "3kxwLUv9ERYW",
      "execution_count": 75,
      "outputs": [
        {
          "output_type": "display_data",
          "data": {
            "text/plain": [
              "<IPython.core.display.HTML object>"
            ],
            "text/html": [
              "\n",
              "     <input type=\"file\" id=\"files-7f816cc7-ccf3-4834-8284-b515b78a1b17\" name=\"files[]\" multiple disabled\n",
              "        style=\"border:none\" />\n",
              "     <output id=\"result-7f816cc7-ccf3-4834-8284-b515b78a1b17\">\n",
              "      Upload widget is only available when the cell has been executed in the\n",
              "      current browser session. Please rerun this cell to enable.\n",
              "      </output>\n",
              "      <script>// Copyright 2017 Google LLC\n",
              "//\n",
              "// Licensed under the Apache License, Version 2.0 (the \"License\");\n",
              "// you may not use this file except in compliance with the License.\n",
              "// You may obtain a copy of the License at\n",
              "//\n",
              "//      http://www.apache.org/licenses/LICENSE-2.0\n",
              "//\n",
              "// Unless required by applicable law or agreed to in writing, software\n",
              "// distributed under the License is distributed on an \"AS IS\" BASIS,\n",
              "// WITHOUT WARRANTIES OR CONDITIONS OF ANY KIND, either express or implied.\n",
              "// See the License for the specific language governing permissions and\n",
              "// limitations under the License.\n",
              "\n",
              "/**\n",
              " * @fileoverview Helpers for google.colab Python module.\n",
              " */\n",
              "(function(scope) {\n",
              "function span(text, styleAttributes = {}) {\n",
              "  const element = document.createElement('span');\n",
              "  element.textContent = text;\n",
              "  for (const key of Object.keys(styleAttributes)) {\n",
              "    element.style[key] = styleAttributes[key];\n",
              "  }\n",
              "  return element;\n",
              "}\n",
              "\n",
              "// Max number of bytes which will be uploaded at a time.\n",
              "const MAX_PAYLOAD_SIZE = 100 * 1024;\n",
              "\n",
              "function _uploadFiles(inputId, outputId) {\n",
              "  const steps = uploadFilesStep(inputId, outputId);\n",
              "  const outputElement = document.getElementById(outputId);\n",
              "  // Cache steps on the outputElement to make it available for the next call\n",
              "  // to uploadFilesContinue from Python.\n",
              "  outputElement.steps = steps;\n",
              "\n",
              "  return _uploadFilesContinue(outputId);\n",
              "}\n",
              "\n",
              "// This is roughly an async generator (not supported in the browser yet),\n",
              "// where there are multiple asynchronous steps and the Python side is going\n",
              "// to poll for completion of each step.\n",
              "// This uses a Promise to block the python side on completion of each step,\n",
              "// then passes the result of the previous step as the input to the next step.\n",
              "function _uploadFilesContinue(outputId) {\n",
              "  const outputElement = document.getElementById(outputId);\n",
              "  const steps = outputElement.steps;\n",
              "\n",
              "  const next = steps.next(outputElement.lastPromiseValue);\n",
              "  return Promise.resolve(next.value.promise).then((value) => {\n",
              "    // Cache the last promise value to make it available to the next\n",
              "    // step of the generator.\n",
              "    outputElement.lastPromiseValue = value;\n",
              "    return next.value.response;\n",
              "  });\n",
              "}\n",
              "\n",
              "/**\n",
              " * Generator function which is called between each async step of the upload\n",
              " * process.\n",
              " * @param {string} inputId Element ID of the input file picker element.\n",
              " * @param {string} outputId Element ID of the output display.\n",
              " * @return {!Iterable<!Object>} Iterable of next steps.\n",
              " */\n",
              "function* uploadFilesStep(inputId, outputId) {\n",
              "  const inputElement = document.getElementById(inputId);\n",
              "  inputElement.disabled = false;\n",
              "\n",
              "  const outputElement = document.getElementById(outputId);\n",
              "  outputElement.innerHTML = '';\n",
              "\n",
              "  const pickedPromise = new Promise((resolve) => {\n",
              "    inputElement.addEventListener('change', (e) => {\n",
              "      resolve(e.target.files);\n",
              "    });\n",
              "  });\n",
              "\n",
              "  const cancel = document.createElement('button');\n",
              "  inputElement.parentElement.appendChild(cancel);\n",
              "  cancel.textContent = 'Cancel upload';\n",
              "  const cancelPromise = new Promise((resolve) => {\n",
              "    cancel.onclick = () => {\n",
              "      resolve(null);\n",
              "    };\n",
              "  });\n",
              "\n",
              "  // Wait for the user to pick the files.\n",
              "  const files = yield {\n",
              "    promise: Promise.race([pickedPromise, cancelPromise]),\n",
              "    response: {\n",
              "      action: 'starting',\n",
              "    }\n",
              "  };\n",
              "\n",
              "  cancel.remove();\n",
              "\n",
              "  // Disable the input element since further picks are not allowed.\n",
              "  inputElement.disabled = true;\n",
              "\n",
              "  if (!files) {\n",
              "    return {\n",
              "      response: {\n",
              "        action: 'complete',\n",
              "      }\n",
              "    };\n",
              "  }\n",
              "\n",
              "  for (const file of files) {\n",
              "    const li = document.createElement('li');\n",
              "    li.append(span(file.name, {fontWeight: 'bold'}));\n",
              "    li.append(span(\n",
              "        `(${file.type || 'n/a'}) - ${file.size} bytes, ` +\n",
              "        `last modified: ${\n",
              "            file.lastModifiedDate ? file.lastModifiedDate.toLocaleDateString() :\n",
              "                                    'n/a'} - `));\n",
              "    const percent = span('0% done');\n",
              "    li.appendChild(percent);\n",
              "\n",
              "    outputElement.appendChild(li);\n",
              "\n",
              "    const fileDataPromise = new Promise((resolve) => {\n",
              "      const reader = new FileReader();\n",
              "      reader.onload = (e) => {\n",
              "        resolve(e.target.result);\n",
              "      };\n",
              "      reader.readAsArrayBuffer(file);\n",
              "    });\n",
              "    // Wait for the data to be ready.\n",
              "    let fileData = yield {\n",
              "      promise: fileDataPromise,\n",
              "      response: {\n",
              "        action: 'continue',\n",
              "      }\n",
              "    };\n",
              "\n",
              "    // Use a chunked sending to avoid message size limits. See b/62115660.\n",
              "    let position = 0;\n",
              "    do {\n",
              "      const length = Math.min(fileData.byteLength - position, MAX_PAYLOAD_SIZE);\n",
              "      const chunk = new Uint8Array(fileData, position, length);\n",
              "      position += length;\n",
              "\n",
              "      const base64 = btoa(String.fromCharCode.apply(null, chunk));\n",
              "      yield {\n",
              "        response: {\n",
              "          action: 'append',\n",
              "          file: file.name,\n",
              "          data: base64,\n",
              "        },\n",
              "      };\n",
              "\n",
              "      let percentDone = fileData.byteLength === 0 ?\n",
              "          100 :\n",
              "          Math.round((position / fileData.byteLength) * 100);\n",
              "      percent.textContent = `${percentDone}% done`;\n",
              "\n",
              "    } while (position < fileData.byteLength);\n",
              "  }\n",
              "\n",
              "  // All done.\n",
              "  yield {\n",
              "    response: {\n",
              "      action: 'complete',\n",
              "    }\n",
              "  };\n",
              "}\n",
              "\n",
              "scope.google = scope.google || {};\n",
              "scope.google.colab = scope.google.colab || {};\n",
              "scope.google.colab._files = {\n",
              "  _uploadFiles,\n",
              "  _uploadFilesContinue,\n",
              "};\n",
              "})(self);\n",
              "</script> "
            ]
          },
          "metadata": {}
        },
        {
          "output_type": "stream",
          "name": "stdout",
          "text": [
            "Saving spam.csv to spam (3).csv\n"
          ]
        }
      ]
    },
    {
      "cell_type": "code",
      "execution_count": 76,
      "id": "6662f9cc",
      "metadata": {
        "execution": {
          "iopub.execute_input": "2023-10-31T07:42:27.862071Z",
          "iopub.status.busy": "2023-10-31T07:42:27.861095Z",
          "iopub.status.idle": "2023-10-31T07:42:27.901283Z",
          "shell.execute_reply": "2023-10-31T07:42:27.900451Z"
        },
        "id": "6662f9cc",
        "papermill": {
          "duration": 0.054813,
          "end_time": "2023-10-31T07:42:27.903435",
          "exception": false,
          "start_time": "2023-10-31T07:42:27.848622",
          "status": "completed"
        },
        "tags": []
      },
      "outputs": [],
      "source": [
        "#load dataset from csv file and use encoding as latin-1\n",
        "email_df=pd.read_csv(\"spam.csv\",encoding='latin-1')"
      ]
    },
    {
      "cell_type": "code",
      "execution_count": 77,
      "id": "5eaceab0",
      "metadata": {
        "execution": {
          "iopub.execute_input": "2023-10-31T07:42:27.929121Z",
          "iopub.status.busy": "2023-10-31T07:42:27.928673Z",
          "iopub.status.idle": "2023-10-31T07:42:27.946581Z",
          "shell.execute_reply": "2023-10-31T07:42:27.945965Z"
        },
        "id": "5eaceab0",
        "papermill": {
          "duration": 0.032806,
          "end_time": "2023-10-31T07:42:27.948426",
          "exception": false,
          "start_time": "2023-10-31T07:42:27.915620",
          "status": "completed"
        },
        "tags": [],
        "colab": {
          "base_uri": "https://localhost:8080/",
          "height": 206
        },
        "outputId": "59c13a87-51fa-4ef6-df8b-b46f93d7039d"
      },
      "outputs": [
        {
          "output_type": "execute_result",
          "data": {
            "text/plain": [
              "     v1                                                 v2 Unnamed: 2  \\\n",
              "0   ham  Go until jurong point, crazy.. Available only ...        NaN   \n",
              "1   ham                      Ok lar... Joking wif u oni...        NaN   \n",
              "2  spam  Free entry in 2 a wkly comp to win FA Cup fina...        NaN   \n",
              "3   ham  U dun say so early hor... U c already then say...        NaN   \n",
              "4   ham  Nah I don't think he goes to usf, he lives aro...        NaN   \n",
              "\n",
              "  Unnamed: 3 Unnamed: 4  \n",
              "0        NaN        NaN  \n",
              "1        NaN        NaN  \n",
              "2        NaN        NaN  \n",
              "3        NaN        NaN  \n",
              "4        NaN        NaN  "
            ],
            "text/html": [
              "\n",
              "  <div id=\"df-250cd8d0-743e-4022-a10e-2971d796703f\" class=\"colab-df-container\">\n",
              "    <div>\n",
              "<style scoped>\n",
              "    .dataframe tbody tr th:only-of-type {\n",
              "        vertical-align: middle;\n",
              "    }\n",
              "\n",
              "    .dataframe tbody tr th {\n",
              "        vertical-align: top;\n",
              "    }\n",
              "\n",
              "    .dataframe thead th {\n",
              "        text-align: right;\n",
              "    }\n",
              "</style>\n",
              "<table border=\"1\" class=\"dataframe\">\n",
              "  <thead>\n",
              "    <tr style=\"text-align: right;\">\n",
              "      <th></th>\n",
              "      <th>v1</th>\n",
              "      <th>v2</th>\n",
              "      <th>Unnamed: 2</th>\n",
              "      <th>Unnamed: 3</th>\n",
              "      <th>Unnamed: 4</th>\n",
              "    </tr>\n",
              "  </thead>\n",
              "  <tbody>\n",
              "    <tr>\n",
              "      <th>0</th>\n",
              "      <td>ham</td>\n",
              "      <td>Go until jurong point, crazy.. Available only ...</td>\n",
              "      <td>NaN</td>\n",
              "      <td>NaN</td>\n",
              "      <td>NaN</td>\n",
              "    </tr>\n",
              "    <tr>\n",
              "      <th>1</th>\n",
              "      <td>ham</td>\n",
              "      <td>Ok lar... Joking wif u oni...</td>\n",
              "      <td>NaN</td>\n",
              "      <td>NaN</td>\n",
              "      <td>NaN</td>\n",
              "    </tr>\n",
              "    <tr>\n",
              "      <th>2</th>\n",
              "      <td>spam</td>\n",
              "      <td>Free entry in 2 a wkly comp to win FA Cup fina...</td>\n",
              "      <td>NaN</td>\n",
              "      <td>NaN</td>\n",
              "      <td>NaN</td>\n",
              "    </tr>\n",
              "    <tr>\n",
              "      <th>3</th>\n",
              "      <td>ham</td>\n",
              "      <td>U dun say so early hor... U c already then say...</td>\n",
              "      <td>NaN</td>\n",
              "      <td>NaN</td>\n",
              "      <td>NaN</td>\n",
              "    </tr>\n",
              "    <tr>\n",
              "      <th>4</th>\n",
              "      <td>ham</td>\n",
              "      <td>Nah I don't think he goes to usf, he lives aro...</td>\n",
              "      <td>NaN</td>\n",
              "      <td>NaN</td>\n",
              "      <td>NaN</td>\n",
              "    </tr>\n",
              "  </tbody>\n",
              "</table>\n",
              "</div>\n",
              "    <div class=\"colab-df-buttons\">\n",
              "\n",
              "  <div class=\"colab-df-container\">\n",
              "    <button class=\"colab-df-convert\" onclick=\"convertToInteractive('df-250cd8d0-743e-4022-a10e-2971d796703f')\"\n",
              "            title=\"Convert this dataframe to an interactive table.\"\n",
              "            style=\"display:none;\">\n",
              "\n",
              "  <svg xmlns=\"http://www.w3.org/2000/svg\" height=\"24px\" viewBox=\"0 -960 960 960\">\n",
              "    <path d=\"M120-120v-720h720v720H120Zm60-500h600v-160H180v160Zm220 220h160v-160H400v160Zm0 220h160v-160H400v160ZM180-400h160v-160H180v160Zm440 0h160v-160H620v160ZM180-180h160v-160H180v160Zm440 0h160v-160H620v160Z\"/>\n",
              "  </svg>\n",
              "    </button>\n",
              "\n",
              "  <style>\n",
              "    .colab-df-container {\n",
              "      display:flex;\n",
              "      gap: 12px;\n",
              "    }\n",
              "\n",
              "    .colab-df-convert {\n",
              "      background-color: #E8F0FE;\n",
              "      border: none;\n",
              "      border-radius: 50%;\n",
              "      cursor: pointer;\n",
              "      display: none;\n",
              "      fill: #1967D2;\n",
              "      height: 32px;\n",
              "      padding: 0 0 0 0;\n",
              "      width: 32px;\n",
              "    }\n",
              "\n",
              "    .colab-df-convert:hover {\n",
              "      background-color: #E2EBFA;\n",
              "      box-shadow: 0px 1px 2px rgba(60, 64, 67, 0.3), 0px 1px 3px 1px rgba(60, 64, 67, 0.15);\n",
              "      fill: #174EA6;\n",
              "    }\n",
              "\n",
              "    .colab-df-buttons div {\n",
              "      margin-bottom: 4px;\n",
              "    }\n",
              "\n",
              "    [theme=dark] .colab-df-convert {\n",
              "      background-color: #3B4455;\n",
              "      fill: #D2E3FC;\n",
              "    }\n",
              "\n",
              "    [theme=dark] .colab-df-convert:hover {\n",
              "      background-color: #434B5C;\n",
              "      box-shadow: 0px 1px 3px 1px rgba(0, 0, 0, 0.15);\n",
              "      filter: drop-shadow(0px 1px 2px rgba(0, 0, 0, 0.3));\n",
              "      fill: #FFFFFF;\n",
              "    }\n",
              "  </style>\n",
              "\n",
              "    <script>\n",
              "      const buttonEl =\n",
              "        document.querySelector('#df-250cd8d0-743e-4022-a10e-2971d796703f button.colab-df-convert');\n",
              "      buttonEl.style.display =\n",
              "        google.colab.kernel.accessAllowed ? 'block' : 'none';\n",
              "\n",
              "      async function convertToInteractive(key) {\n",
              "        const element = document.querySelector('#df-250cd8d0-743e-4022-a10e-2971d796703f');\n",
              "        const dataTable =\n",
              "          await google.colab.kernel.invokeFunction('convertToInteractive',\n",
              "                                                    [key], {});\n",
              "        if (!dataTable) return;\n",
              "\n",
              "        const docLinkHtml = 'Like what you see? Visit the ' +\n",
              "          '<a target=\"_blank\" href=https://colab.research.google.com/notebooks/data_table.ipynb>data table notebook</a>'\n",
              "          + ' to learn more about interactive tables.';\n",
              "        element.innerHTML = '';\n",
              "        dataTable['output_type'] = 'display_data';\n",
              "        await google.colab.output.renderOutput(dataTable, element);\n",
              "        const docLink = document.createElement('div');\n",
              "        docLink.innerHTML = docLinkHtml;\n",
              "        element.appendChild(docLink);\n",
              "      }\n",
              "    </script>\n",
              "  </div>\n",
              "\n",
              "\n",
              "<div id=\"df-120585e4-9b62-4d8d-8e57-616c8fabb0be\">\n",
              "  <button class=\"colab-df-quickchart\" onclick=\"quickchart('df-120585e4-9b62-4d8d-8e57-616c8fabb0be')\"\n",
              "            title=\"Suggest charts\"\n",
              "            style=\"display:none;\">\n",
              "\n",
              "<svg xmlns=\"http://www.w3.org/2000/svg\" height=\"24px\"viewBox=\"0 0 24 24\"\n",
              "     width=\"24px\">\n",
              "    <g>\n",
              "        <path d=\"M19 3H5c-1.1 0-2 .9-2 2v14c0 1.1.9 2 2 2h14c1.1 0 2-.9 2-2V5c0-1.1-.9-2-2-2zM9 17H7v-7h2v7zm4 0h-2V7h2v10zm4 0h-2v-4h2v4z\"/>\n",
              "    </g>\n",
              "</svg>\n",
              "  </button>\n",
              "\n",
              "<style>\n",
              "  .colab-df-quickchart {\n",
              "      --bg-color: #E8F0FE;\n",
              "      --fill-color: #1967D2;\n",
              "      --hover-bg-color: #E2EBFA;\n",
              "      --hover-fill-color: #174EA6;\n",
              "      --disabled-fill-color: #AAA;\n",
              "      --disabled-bg-color: #DDD;\n",
              "  }\n",
              "\n",
              "  [theme=dark] .colab-df-quickchart {\n",
              "      --bg-color: #3B4455;\n",
              "      --fill-color: #D2E3FC;\n",
              "      --hover-bg-color: #434B5C;\n",
              "      --hover-fill-color: #FFFFFF;\n",
              "      --disabled-bg-color: #3B4455;\n",
              "      --disabled-fill-color: #666;\n",
              "  }\n",
              "\n",
              "  .colab-df-quickchart {\n",
              "    background-color: var(--bg-color);\n",
              "    border: none;\n",
              "    border-radius: 50%;\n",
              "    cursor: pointer;\n",
              "    display: none;\n",
              "    fill: var(--fill-color);\n",
              "    height: 32px;\n",
              "    padding: 0;\n",
              "    width: 32px;\n",
              "  }\n",
              "\n",
              "  .colab-df-quickchart:hover {\n",
              "    background-color: var(--hover-bg-color);\n",
              "    box-shadow: 0 1px 2px rgba(60, 64, 67, 0.3), 0 1px 3px 1px rgba(60, 64, 67, 0.15);\n",
              "    fill: var(--button-hover-fill-color);\n",
              "  }\n",
              "\n",
              "  .colab-df-quickchart-complete:disabled,\n",
              "  .colab-df-quickchart-complete:disabled:hover {\n",
              "    background-color: var(--disabled-bg-color);\n",
              "    fill: var(--disabled-fill-color);\n",
              "    box-shadow: none;\n",
              "  }\n",
              "\n",
              "  .colab-df-spinner {\n",
              "    border: 2px solid var(--fill-color);\n",
              "    border-color: transparent;\n",
              "    border-bottom-color: var(--fill-color);\n",
              "    animation:\n",
              "      spin 1s steps(1) infinite;\n",
              "  }\n",
              "\n",
              "  @keyframes spin {\n",
              "    0% {\n",
              "      border-color: transparent;\n",
              "      border-bottom-color: var(--fill-color);\n",
              "      border-left-color: var(--fill-color);\n",
              "    }\n",
              "    20% {\n",
              "      border-color: transparent;\n",
              "      border-left-color: var(--fill-color);\n",
              "      border-top-color: var(--fill-color);\n",
              "    }\n",
              "    30% {\n",
              "      border-color: transparent;\n",
              "      border-left-color: var(--fill-color);\n",
              "      border-top-color: var(--fill-color);\n",
              "      border-right-color: var(--fill-color);\n",
              "    }\n",
              "    40% {\n",
              "      border-color: transparent;\n",
              "      border-right-color: var(--fill-color);\n",
              "      border-top-color: var(--fill-color);\n",
              "    }\n",
              "    60% {\n",
              "      border-color: transparent;\n",
              "      border-right-color: var(--fill-color);\n",
              "    }\n",
              "    80% {\n",
              "      border-color: transparent;\n",
              "      border-right-color: var(--fill-color);\n",
              "      border-bottom-color: var(--fill-color);\n",
              "    }\n",
              "    90% {\n",
              "      border-color: transparent;\n",
              "      border-bottom-color: var(--fill-color);\n",
              "    }\n",
              "  }\n",
              "</style>\n",
              "\n",
              "  <script>\n",
              "    async function quickchart(key) {\n",
              "      const quickchartButtonEl =\n",
              "        document.querySelector('#' + key + ' button');\n",
              "      quickchartButtonEl.disabled = true;  // To prevent multiple clicks.\n",
              "      quickchartButtonEl.classList.add('colab-df-spinner');\n",
              "      try {\n",
              "        const charts = await google.colab.kernel.invokeFunction(\n",
              "            'suggestCharts', [key], {});\n",
              "      } catch (error) {\n",
              "        console.error('Error during call to suggestCharts:', error);\n",
              "      }\n",
              "      quickchartButtonEl.classList.remove('colab-df-spinner');\n",
              "      quickchartButtonEl.classList.add('colab-df-quickchart-complete');\n",
              "    }\n",
              "    (() => {\n",
              "      let quickchartButtonEl =\n",
              "        document.querySelector('#df-120585e4-9b62-4d8d-8e57-616c8fabb0be button');\n",
              "      quickchartButtonEl.style.display =\n",
              "        google.colab.kernel.accessAllowed ? 'block' : 'none';\n",
              "    })();\n",
              "  </script>\n",
              "</div>\n",
              "    </div>\n",
              "  </div>\n"
            ]
          },
          "metadata": {},
          "execution_count": 77
        }
      ],
      "source": [
        "#print first 5 records\n",
        "email_df.head()"
      ]
    },
    {
      "cell_type": "code",
      "execution_count": 78,
      "id": "73208eaa",
      "metadata": {
        "execution": {
          "iopub.execute_input": "2023-10-31T07:42:27.974959Z",
          "iopub.status.busy": "2023-10-31T07:42:27.974351Z",
          "iopub.status.idle": "2023-10-31T07:42:27.998393Z",
          "shell.execute_reply": "2023-10-31T07:42:27.997123Z"
        },
        "id": "73208eaa",
        "papermill": {
          "duration": 0.039525,
          "end_time": "2023-10-31T07:42:28.000631",
          "exception": false,
          "start_time": "2023-10-31T07:42:27.961106",
          "status": "completed"
        },
        "tags": [],
        "colab": {
          "base_uri": "https://localhost:8080/"
        },
        "outputId": "397631f8-63e4-4b1b-e0c4-8dc5bcf1f74b"
      },
      "outputs": [
        {
          "output_type": "stream",
          "name": "stdout",
          "text": [
            "<class 'pandas.core.frame.DataFrame'>\n",
            "RangeIndex: 5572 entries, 0 to 5571\n",
            "Data columns (total 5 columns):\n",
            " #   Column      Non-Null Count  Dtype \n",
            "---  ------      --------------  ----- \n",
            " 0   v1          5572 non-null   object\n",
            " 1   v2          5572 non-null   object\n",
            " 2   Unnamed: 2  50 non-null     object\n",
            " 3   Unnamed: 3  12 non-null     object\n",
            " 4   Unnamed: 4  6 non-null      object\n",
            "dtypes: object(5)\n",
            "memory usage: 217.8+ KB\n"
          ]
        }
      ],
      "source": [
        "#print concise summary about dataset.\n",
        "email_df.info()"
      ]
    },
    {
      "cell_type": "code",
      "execution_count": 79,
      "id": "efeee632",
      "metadata": {
        "execution": {
          "iopub.execute_input": "2023-10-31T07:42:28.029111Z",
          "iopub.status.busy": "2023-10-31T07:42:28.028234Z",
          "iopub.status.idle": "2023-10-31T07:42:28.037817Z",
          "shell.execute_reply": "2023-10-31T07:42:28.036717Z"
        },
        "id": "efeee632",
        "papermill": {
          "duration": 0.026246,
          "end_time": "2023-10-31T07:42:28.040046",
          "exception": false,
          "start_time": "2023-10-31T07:42:28.013800",
          "status": "completed"
        },
        "tags": []
      },
      "outputs": [],
      "source": [
        "#lets delete Unnamed : 2 , Unnamed : 3 and Unnamed : 4 column because they are having zero values in almost entire column.\n",
        "column_to_delete=[name for name in email_df.columns if name.startswith('Unnamed')]\n",
        "email_df.drop(columns=column_to_delete,inplace=True)"
      ]
    },
    {
      "cell_type": "code",
      "execution_count": 80,
      "id": "51654fae",
      "metadata": {
        "execution": {
          "iopub.execute_input": "2023-10-31T07:42:28.069054Z",
          "iopub.status.busy": "2023-10-31T07:42:28.068690Z",
          "iopub.status.idle": "2023-10-31T07:42:28.074216Z",
          "shell.execute_reply": "2023-10-31T07:42:28.073236Z"
        },
        "id": "51654fae",
        "papermill": {
          "duration": 0.021713,
          "end_time": "2023-10-31T07:42:28.076231",
          "exception": false,
          "start_time": "2023-10-31T07:42:28.054518",
          "status": "completed"
        },
        "tags": []
      },
      "outputs": [],
      "source": [
        "#rename v1 column to target and v2 column to message\n",
        "email_df.rename(columns=dict({\"v1\":\"target\",\"v2\":\"message\"}),inplace=True)"
      ]
    },
    {
      "cell_type": "code",
      "execution_count": 81,
      "id": "2b1c75ed",
      "metadata": {
        "execution": {
          "iopub.execute_input": "2023-10-31T07:42:28.102338Z",
          "iopub.status.busy": "2023-10-31T07:42:28.101784Z",
          "iopub.status.idle": "2023-10-31T07:42:28.109951Z",
          "shell.execute_reply": "2023-10-31T07:42:28.109339Z"
        },
        "id": "2b1c75ed",
        "papermill": {
          "duration": 0.022683,
          "end_time": "2023-10-31T07:42:28.111680",
          "exception": false,
          "start_time": "2023-10-31T07:42:28.088997",
          "status": "completed"
        },
        "tags": [],
        "colab": {
          "base_uri": "https://localhost:8080/",
          "height": 206
        },
        "outputId": "27fb18d9-cec5-4924-d427-a887aee1e15f"
      },
      "outputs": [
        {
          "output_type": "execute_result",
          "data": {
            "text/plain": [
              "     target                                            message\n",
              "5567   spam  This is the 2nd time we have tried 2 contact u...\n",
              "5568    ham              Will Ì_ b going to esplanade fr home?\n",
              "5569    ham  Pity, * was in mood for that. So...any other s...\n",
              "5570    ham  The guy did some bitching but I acted like i'd...\n",
              "5571    ham                         Rofl. Its true to its name"
            ],
            "text/html": [
              "\n",
              "  <div id=\"df-5bc97d00-7460-4181-b80d-54681116a081\" class=\"colab-df-container\">\n",
              "    <div>\n",
              "<style scoped>\n",
              "    .dataframe tbody tr th:only-of-type {\n",
              "        vertical-align: middle;\n",
              "    }\n",
              "\n",
              "    .dataframe tbody tr th {\n",
              "        vertical-align: top;\n",
              "    }\n",
              "\n",
              "    .dataframe thead th {\n",
              "        text-align: right;\n",
              "    }\n",
              "</style>\n",
              "<table border=\"1\" class=\"dataframe\">\n",
              "  <thead>\n",
              "    <tr style=\"text-align: right;\">\n",
              "      <th></th>\n",
              "      <th>target</th>\n",
              "      <th>message</th>\n",
              "    </tr>\n",
              "  </thead>\n",
              "  <tbody>\n",
              "    <tr>\n",
              "      <th>5567</th>\n",
              "      <td>spam</td>\n",
              "      <td>This is the 2nd time we have tried 2 contact u...</td>\n",
              "    </tr>\n",
              "    <tr>\n",
              "      <th>5568</th>\n",
              "      <td>ham</td>\n",
              "      <td>Will Ì_ b going to esplanade fr home?</td>\n",
              "    </tr>\n",
              "    <tr>\n",
              "      <th>5569</th>\n",
              "      <td>ham</td>\n",
              "      <td>Pity, * was in mood for that. So...any other s...</td>\n",
              "    </tr>\n",
              "    <tr>\n",
              "      <th>5570</th>\n",
              "      <td>ham</td>\n",
              "      <td>The guy did some bitching but I acted like i'd...</td>\n",
              "    </tr>\n",
              "    <tr>\n",
              "      <th>5571</th>\n",
              "      <td>ham</td>\n",
              "      <td>Rofl. Its true to its name</td>\n",
              "    </tr>\n",
              "  </tbody>\n",
              "</table>\n",
              "</div>\n",
              "    <div class=\"colab-df-buttons\">\n",
              "\n",
              "  <div class=\"colab-df-container\">\n",
              "    <button class=\"colab-df-convert\" onclick=\"convertToInteractive('df-5bc97d00-7460-4181-b80d-54681116a081')\"\n",
              "            title=\"Convert this dataframe to an interactive table.\"\n",
              "            style=\"display:none;\">\n",
              "\n",
              "  <svg xmlns=\"http://www.w3.org/2000/svg\" height=\"24px\" viewBox=\"0 -960 960 960\">\n",
              "    <path d=\"M120-120v-720h720v720H120Zm60-500h600v-160H180v160Zm220 220h160v-160H400v160Zm0 220h160v-160H400v160ZM180-400h160v-160H180v160Zm440 0h160v-160H620v160ZM180-180h160v-160H180v160Zm440 0h160v-160H620v160Z\"/>\n",
              "  </svg>\n",
              "    </button>\n",
              "\n",
              "  <style>\n",
              "    .colab-df-container {\n",
              "      display:flex;\n",
              "      gap: 12px;\n",
              "    }\n",
              "\n",
              "    .colab-df-convert {\n",
              "      background-color: #E8F0FE;\n",
              "      border: none;\n",
              "      border-radius: 50%;\n",
              "      cursor: pointer;\n",
              "      display: none;\n",
              "      fill: #1967D2;\n",
              "      height: 32px;\n",
              "      padding: 0 0 0 0;\n",
              "      width: 32px;\n",
              "    }\n",
              "\n",
              "    .colab-df-convert:hover {\n",
              "      background-color: #E2EBFA;\n",
              "      box-shadow: 0px 1px 2px rgba(60, 64, 67, 0.3), 0px 1px 3px 1px rgba(60, 64, 67, 0.15);\n",
              "      fill: #174EA6;\n",
              "    }\n",
              "\n",
              "    .colab-df-buttons div {\n",
              "      margin-bottom: 4px;\n",
              "    }\n",
              "\n",
              "    [theme=dark] .colab-df-convert {\n",
              "      background-color: #3B4455;\n",
              "      fill: #D2E3FC;\n",
              "    }\n",
              "\n",
              "    [theme=dark] .colab-df-convert:hover {\n",
              "      background-color: #434B5C;\n",
              "      box-shadow: 0px 1px 3px 1px rgba(0, 0, 0, 0.15);\n",
              "      filter: drop-shadow(0px 1px 2px rgba(0, 0, 0, 0.3));\n",
              "      fill: #FFFFFF;\n",
              "    }\n",
              "  </style>\n",
              "\n",
              "    <script>\n",
              "      const buttonEl =\n",
              "        document.querySelector('#df-5bc97d00-7460-4181-b80d-54681116a081 button.colab-df-convert');\n",
              "      buttonEl.style.display =\n",
              "        google.colab.kernel.accessAllowed ? 'block' : 'none';\n",
              "\n",
              "      async function convertToInteractive(key) {\n",
              "        const element = document.querySelector('#df-5bc97d00-7460-4181-b80d-54681116a081');\n",
              "        const dataTable =\n",
              "          await google.colab.kernel.invokeFunction('convertToInteractive',\n",
              "                                                    [key], {});\n",
              "        if (!dataTable) return;\n",
              "\n",
              "        const docLinkHtml = 'Like what you see? Visit the ' +\n",
              "          '<a target=\"_blank\" href=https://colab.research.google.com/notebooks/data_table.ipynb>data table notebook</a>'\n",
              "          + ' to learn more about interactive tables.';\n",
              "        element.innerHTML = '';\n",
              "        dataTable['output_type'] = 'display_data';\n",
              "        await google.colab.output.renderOutput(dataTable, element);\n",
              "        const docLink = document.createElement('div');\n",
              "        docLink.innerHTML = docLinkHtml;\n",
              "        element.appendChild(docLink);\n",
              "      }\n",
              "    </script>\n",
              "  </div>\n",
              "\n",
              "\n",
              "<div id=\"df-e8da26be-2865-4ded-b41e-97c58dff9c6b\">\n",
              "  <button class=\"colab-df-quickchart\" onclick=\"quickchart('df-e8da26be-2865-4ded-b41e-97c58dff9c6b')\"\n",
              "            title=\"Suggest charts\"\n",
              "            style=\"display:none;\">\n",
              "\n",
              "<svg xmlns=\"http://www.w3.org/2000/svg\" height=\"24px\"viewBox=\"0 0 24 24\"\n",
              "     width=\"24px\">\n",
              "    <g>\n",
              "        <path d=\"M19 3H5c-1.1 0-2 .9-2 2v14c0 1.1.9 2 2 2h14c1.1 0 2-.9 2-2V5c0-1.1-.9-2-2-2zM9 17H7v-7h2v7zm4 0h-2V7h2v10zm4 0h-2v-4h2v4z\"/>\n",
              "    </g>\n",
              "</svg>\n",
              "  </button>\n",
              "\n",
              "<style>\n",
              "  .colab-df-quickchart {\n",
              "      --bg-color: #E8F0FE;\n",
              "      --fill-color: #1967D2;\n",
              "      --hover-bg-color: #E2EBFA;\n",
              "      --hover-fill-color: #174EA6;\n",
              "      --disabled-fill-color: #AAA;\n",
              "      --disabled-bg-color: #DDD;\n",
              "  }\n",
              "\n",
              "  [theme=dark] .colab-df-quickchart {\n",
              "      --bg-color: #3B4455;\n",
              "      --fill-color: #D2E3FC;\n",
              "      --hover-bg-color: #434B5C;\n",
              "      --hover-fill-color: #FFFFFF;\n",
              "      --disabled-bg-color: #3B4455;\n",
              "      --disabled-fill-color: #666;\n",
              "  }\n",
              "\n",
              "  .colab-df-quickchart {\n",
              "    background-color: var(--bg-color);\n",
              "    border: none;\n",
              "    border-radius: 50%;\n",
              "    cursor: pointer;\n",
              "    display: none;\n",
              "    fill: var(--fill-color);\n",
              "    height: 32px;\n",
              "    padding: 0;\n",
              "    width: 32px;\n",
              "  }\n",
              "\n",
              "  .colab-df-quickchart:hover {\n",
              "    background-color: var(--hover-bg-color);\n",
              "    box-shadow: 0 1px 2px rgba(60, 64, 67, 0.3), 0 1px 3px 1px rgba(60, 64, 67, 0.15);\n",
              "    fill: var(--button-hover-fill-color);\n",
              "  }\n",
              "\n",
              "  .colab-df-quickchart-complete:disabled,\n",
              "  .colab-df-quickchart-complete:disabled:hover {\n",
              "    background-color: var(--disabled-bg-color);\n",
              "    fill: var(--disabled-fill-color);\n",
              "    box-shadow: none;\n",
              "  }\n",
              "\n",
              "  .colab-df-spinner {\n",
              "    border: 2px solid var(--fill-color);\n",
              "    border-color: transparent;\n",
              "    border-bottom-color: var(--fill-color);\n",
              "    animation:\n",
              "      spin 1s steps(1) infinite;\n",
              "  }\n",
              "\n",
              "  @keyframes spin {\n",
              "    0% {\n",
              "      border-color: transparent;\n",
              "      border-bottom-color: var(--fill-color);\n",
              "      border-left-color: var(--fill-color);\n",
              "    }\n",
              "    20% {\n",
              "      border-color: transparent;\n",
              "      border-left-color: var(--fill-color);\n",
              "      border-top-color: var(--fill-color);\n",
              "    }\n",
              "    30% {\n",
              "      border-color: transparent;\n",
              "      border-left-color: var(--fill-color);\n",
              "      border-top-color: var(--fill-color);\n",
              "      border-right-color: var(--fill-color);\n",
              "    }\n",
              "    40% {\n",
              "      border-color: transparent;\n",
              "      border-right-color: var(--fill-color);\n",
              "      border-top-color: var(--fill-color);\n",
              "    }\n",
              "    60% {\n",
              "      border-color: transparent;\n",
              "      border-right-color: var(--fill-color);\n",
              "    }\n",
              "    80% {\n",
              "      border-color: transparent;\n",
              "      border-right-color: var(--fill-color);\n",
              "      border-bottom-color: var(--fill-color);\n",
              "    }\n",
              "    90% {\n",
              "      border-color: transparent;\n",
              "      border-bottom-color: var(--fill-color);\n",
              "    }\n",
              "  }\n",
              "</style>\n",
              "\n",
              "  <script>\n",
              "    async function quickchart(key) {\n",
              "      const quickchartButtonEl =\n",
              "        document.querySelector('#' + key + ' button');\n",
              "      quickchartButtonEl.disabled = true;  // To prevent multiple clicks.\n",
              "      quickchartButtonEl.classList.add('colab-df-spinner');\n",
              "      try {\n",
              "        const charts = await google.colab.kernel.invokeFunction(\n",
              "            'suggestCharts', [key], {});\n",
              "      } catch (error) {\n",
              "        console.error('Error during call to suggestCharts:', error);\n",
              "      }\n",
              "      quickchartButtonEl.classList.remove('colab-df-spinner');\n",
              "      quickchartButtonEl.classList.add('colab-df-quickchart-complete');\n",
              "    }\n",
              "    (() => {\n",
              "      let quickchartButtonEl =\n",
              "        document.querySelector('#df-e8da26be-2865-4ded-b41e-97c58dff9c6b button');\n",
              "      quickchartButtonEl.style.display =\n",
              "        google.colab.kernel.accessAllowed ? 'block' : 'none';\n",
              "    })();\n",
              "  </script>\n",
              "</div>\n",
              "    </div>\n",
              "  </div>\n"
            ]
          },
          "metadata": {},
          "execution_count": 81
        }
      ],
      "source": [
        "#after deleting and renaming columns print last 5 records of the dataset\n",
        "email_df.tail()"
      ]
    },
    {
      "cell_type": "code",
      "execution_count": 82,
      "id": "7f933c7f",
      "metadata": {
        "execution": {
          "iopub.execute_input": "2023-10-31T07:42:28.138600Z",
          "iopub.status.busy": "2023-10-31T07:42:28.138021Z",
          "iopub.status.idle": "2023-10-31T07:42:28.145889Z",
          "shell.execute_reply": "2023-10-31T07:42:28.145150Z"
        },
        "id": "7f933c7f",
        "papermill": {
          "duration": 0.023635,
          "end_time": "2023-10-31T07:42:28.147744",
          "exception": false,
          "start_time": "2023-10-31T07:42:28.124109",
          "status": "completed"
        },
        "tags": [],
        "colab": {
          "base_uri": "https://localhost:8080/"
        },
        "outputId": "c35623da-1850-4130-9712-4446dcdbfdfb"
      },
      "outputs": [
        {
          "output_type": "execute_result",
          "data": {
            "text/plain": [
              "target     0\n",
              "message    0\n",
              "dtype: int64"
            ]
          },
          "metadata": {},
          "execution_count": 82
        }
      ],
      "source": [
        "#print null values\n",
        "email_df.isnull().sum()"
      ]
    },
    {
      "cell_type": "code",
      "execution_count": 83,
      "id": "902bfbbb",
      "metadata": {
        "execution": {
          "iopub.execute_input": "2023-10-31T07:42:28.175988Z",
          "iopub.status.busy": "2023-10-31T07:42:28.175570Z",
          "iopub.status.idle": "2023-10-31T07:42:28.187691Z",
          "shell.execute_reply": "2023-10-31T07:42:28.186137Z"
        },
        "id": "902bfbbb",
        "papermill": {
          "duration": 0.028598,
          "end_time": "2023-10-31T07:42:28.189743",
          "exception": false,
          "start_time": "2023-10-31T07:42:28.161145",
          "status": "completed"
        },
        "tags": [],
        "colab": {
          "base_uri": "https://localhost:8080/"
        },
        "outputId": "6f0b0ad1-ea70-4b91-9707-1121b602715d"
      },
      "outputs": [
        {
          "output_type": "stream",
          "name": "stdout",
          "text": [
            "Total duplicated records in dataset are : 403\n"
          ]
        }
      ],
      "source": [
        "#print no of duplicate records\n",
        "print(\"Total duplicated records in dataset are : {}\".format(email_df.duplicated().sum()))"
      ]
    },
    {
      "cell_type": "code",
      "execution_count": 84,
      "id": "dd2c4eb3",
      "metadata": {
        "execution": {
          "iopub.execute_input": "2023-10-31T07:42:28.217269Z",
          "iopub.status.busy": "2023-10-31T07:42:28.216633Z",
          "iopub.status.idle": "2023-10-31T07:42:28.224355Z",
          "shell.execute_reply": "2023-10-31T07:42:28.223731Z"
        },
        "id": "dd2c4eb3",
        "papermill": {
          "duration": 0.023514,
          "end_time": "2023-10-31T07:42:28.226446",
          "exception": false,
          "start_time": "2023-10-31T07:42:28.202932",
          "status": "completed"
        },
        "tags": []
      },
      "outputs": [],
      "source": [
        "#lets remove duplicated records\n",
        "email_df.drop_duplicates(inplace=True)"
      ]
    },
    {
      "cell_type": "markdown",
      "id": "9480496f",
      "metadata": {
        "id": "9480496f",
        "papermill": {
          "duration": 0.012313,
          "end_time": "2023-10-31T07:42:28.251068",
          "exception": false,
          "start_time": "2023-10-31T07:42:28.238755",
          "status": "completed"
        },
        "tags": []
      },
      "source": [
        "# Data Preprocessing :\n",
        "        1. target : map spam to 0 and ham/not-spam to 1\n",
        "        2. message : 1. lower case\n",
        "                     2. tokenization\n",
        "                     3. remove stop words and punctuation\n",
        "                     4. stemizing : reduce the word to its root form."
      ]
    },
    {
      "cell_type": "code",
      "execution_count": 85,
      "id": "19b8409c",
      "metadata": {
        "execution": {
          "iopub.execute_input": "2023-10-31T07:42:28.276682Z",
          "iopub.status.busy": "2023-10-31T07:42:28.276385Z",
          "iopub.status.idle": "2023-10-31T07:42:28.285577Z",
          "shell.execute_reply": "2023-10-31T07:42:28.284453Z"
        },
        "id": "19b8409c",
        "papermill": {
          "duration": 0.024261,
          "end_time": "2023-10-31T07:42:28.287520",
          "exception": false,
          "start_time": "2023-10-31T07:42:28.263259",
          "status": "completed"
        },
        "tags": []
      },
      "outputs": [],
      "source": [
        "#function to map target with 0 and 1\n",
        "def target_mapper(text):\n",
        "    return 0 if text=='spam' else 1\n",
        "\n",
        "email_df[\"target\"]=email_df['target'].apply(func=target_mapper)"
      ]
    },
    {
      "cell_type": "code",
      "execution_count": 86,
      "id": "301547c4",
      "metadata": {
        "execution": {
          "iopub.execute_input": "2023-10-31T07:42:28.313591Z",
          "iopub.status.busy": "2023-10-31T07:42:28.313048Z",
          "iopub.status.idle": "2023-10-31T07:42:28.484916Z",
          "shell.execute_reply": "2023-10-31T07:42:28.483912Z"
        },
        "id": "301547c4",
        "papermill": {
          "duration": 0.187649,
          "end_time": "2023-10-31T07:42:28.487047",
          "exception": false,
          "start_time": "2023-10-31T07:42:28.299398",
          "status": "completed"
        },
        "tags": [],
        "colab": {
          "base_uri": "https://localhost:8080/"
        },
        "outputId": "d6dea675-cdbc-4c84-eee6-5a5fb7012e69"
      },
      "outputs": [
        {
          "output_type": "stream",
          "name": "stderr",
          "text": [
            "[nltk_data] Downloading package punkt to /root/nltk_data...\n",
            "[nltk_data]   Package punkt is already up-to-date!\n",
            "[nltk_data] Downloading package stopwords to /root/nltk_data...\n",
            "[nltk_data]   Package stopwords is already up-to-date!\n"
          ]
        }
      ],
      "source": [
        "#import nltk library for data preprocessing\n",
        "import nltk\n",
        "nltk.download('punkt') #download punctuation\n",
        "nltk.download('stopwords') #download stopwords\n",
        "from nltk.corpus import stopwords\n",
        "from nltk import PorterStemmer\n",
        "from nltk import tokenize  #import nltk tokenize package to use word and sentence tokenizer.\n",
        "STOPWORDS=stopwords.words(\"english\") #taking only english stopwords because spam messages are in english language only."
      ]
    },
    {
      "cell_type": "code",
      "execution_count": 87,
      "id": "1e9a67ee",
      "metadata": {
        "execution": {
          "iopub.execute_input": "2023-10-31T07:42:28.514386Z",
          "iopub.status.busy": "2023-10-31T07:42:28.513687Z",
          "iopub.status.idle": "2023-10-31T07:42:28.519295Z",
          "shell.execute_reply": "2023-10-31T07:42:28.518650Z"
        },
        "id": "1e9a67ee",
        "papermill": {
          "duration": 0.021342,
          "end_time": "2023-10-31T07:42:28.521344",
          "exception": false,
          "start_time": "2023-10-31T07:42:28.500002",
          "status": "completed"
        },
        "tags": []
      },
      "outputs": [],
      "source": [
        "#function to preprocess row text into ready to use format for our model.\n",
        "def message_tranformation(text):\n",
        "    text=text.strip() #remove black spaces from starting and ending of message text\n",
        "    text=text.lower() #coverting all message words into lowercase format to generalize it.\n",
        "\n",
        "    #tokenize the text\n",
        "    words=tokenize.word_tokenize(text)\n",
        "\n",
        "    #intialize the porter stemmer\n",
        "    stemmer=PorterStemmer()\n",
        "\n",
        "    #remove stopwords and applying stemming while ignoring special words.\n",
        "    filtered_words=[stemmer.stem(word) for word in words if word not in STOPWORDS and word.isalnum()]\n",
        "\n",
        "    #Join list of filter words back to the string format\n",
        "    transformed_text=\" \".join(filtered_words)\n",
        "    return transformed_text"
      ]
    },
    {
      "cell_type": "code",
      "execution_count": 88,
      "id": "ddeac7ad",
      "metadata": {
        "execution": {
          "iopub.execute_input": "2023-10-31T07:42:28.548883Z",
          "iopub.status.busy": "2023-10-31T07:42:28.548270Z",
          "iopub.status.idle": "2023-10-31T07:42:31.904567Z",
          "shell.execute_reply": "2023-10-31T07:42:31.903665Z"
        },
        "id": "ddeac7ad",
        "papermill": {
          "duration": 3.372917,
          "end_time": "2023-10-31T07:42:31.906998",
          "exception": false,
          "start_time": "2023-10-31T07:42:28.534081",
          "status": "completed"
        },
        "tags": []
      },
      "outputs": [],
      "source": [
        "#applying message tranformation function on email_df transformed_message column.\n",
        "email_df[\"transformed_message\"]=email_df[\"message\"].apply(message_tranformation)"
      ]
    },
    {
      "cell_type": "code",
      "execution_count": null,
      "id": "3c148b71",
      "metadata": {
        "execution": {
          "iopub.execute_input": "2023-10-31T07:42:31.933738Z",
          "iopub.status.busy": "2023-10-31T07:42:31.933176Z",
          "iopub.status.idle": "2023-10-31T07:42:31.942347Z",
          "shell.execute_reply": "2023-10-31T07:42:31.941556Z"
        },
        "id": "3c148b71",
        "papermill": {
          "duration": 0.024762,
          "end_time": "2023-10-31T07:42:31.944290",
          "exception": false,
          "start_time": "2023-10-31T07:42:31.919528",
          "status": "completed"
        },
        "tags": []
      },
      "outputs": [],
      "source": [
        "#print first 5 recods after cleaning messages\n",
        "email_df.head()"
      ]
    },
    {
      "cell_type": "code",
      "execution_count": null,
      "id": "3375dc85",
      "metadata": {
        "execution": {
          "iopub.execute_input": "2023-10-31T07:42:32.015734Z",
          "iopub.status.busy": "2023-10-31T07:42:32.015131Z",
          "iopub.status.idle": "2023-10-31T07:42:32.022012Z",
          "shell.execute_reply": "2023-10-31T07:42:32.021284Z"
        },
        "id": "3375dc85",
        "papermill": {
          "duration": 0.024036,
          "end_time": "2023-10-31T07:42:32.024075",
          "exception": false,
          "start_time": "2023-10-31T07:42:32.000039",
          "status": "completed"
        },
        "tags": []
      },
      "outputs": [],
      "source": [
        "#now we can delete message column because we are going to work with preprocessed text messages only.\n",
        "email_df.drop(columns=\"message\",inplace=True)"
      ]
    },
    {
      "cell_type": "code",
      "execution_count": null,
      "id": "2e823400",
      "metadata": {
        "execution": {
          "iopub.execute_input": "2023-10-31T07:42:32.051734Z",
          "iopub.status.busy": "2023-10-31T07:42:32.051216Z",
          "iopub.status.idle": "2023-10-31T07:42:32.104443Z",
          "shell.execute_reply": "2023-10-31T07:42:32.103410Z"
        },
        "id": "2e823400",
        "papermill": {
          "duration": 0.069246,
          "end_time": "2023-10-31T07:42:32.107012",
          "exception": false,
          "start_time": "2023-10-31T07:42:32.037766",
          "status": "completed"
        },
        "tags": []
      },
      "outputs": [],
      "source": [
        "#configure object of wordcloud plot\n",
        "from wordcloud import WordCloud\n",
        "wc=WordCloud(width=1000,height=1000,min_font_size=8,background_color='white')"
      ]
    },
    {
      "cell_type": "markdown",
      "id": "133f0db0",
      "metadata": {
        "id": "133f0db0",
        "papermill": {
          "duration": 0.012587,
          "end_time": "2023-10-31T07:42:32.132829",
          "exception": false,
          "start_time": "2023-10-31T07:42:32.120242",
          "status": "completed"
        },
        "tags": []
      },
      "source": [
        "Wordcloud for Spam Category messaages"
      ]
    },
    {
      "cell_type": "code",
      "execution_count": null,
      "id": "953e7737",
      "metadata": {
        "execution": {
          "iopub.execute_input": "2023-10-31T07:42:32.161568Z",
          "iopub.status.busy": "2023-10-31T07:42:32.161197Z",
          "iopub.status.idle": "2023-10-31T07:42:34.800157Z",
          "shell.execute_reply": "2023-10-31T07:42:34.799035Z"
        },
        "id": "953e7737",
        "papermill": {
          "duration": 2.659467,
          "end_time": "2023-10-31T07:42:34.805721",
          "exception": false,
          "start_time": "2023-10-31T07:42:32.146254",
          "status": "completed"
        },
        "tags": []
      },
      "outputs": [],
      "source": [
        "#generate wordcloud plot for spam messages\n",
        "spam_wc=wc.generate(email_df[email_df[\"target\"]==0][\"transformed_message\"].str.cat(sep=\" \"))\n",
        "plt.figure(figsize=(20,10))\n",
        "plt.imshow(spam_wc)\n",
        "plt.show()"
      ]
    },
    {
      "cell_type": "markdown",
      "id": "4db7e83a",
      "metadata": {
        "id": "4db7e83a",
        "papermill": {
          "duration": 0.018557,
          "end_time": "2023-10-31T07:42:34.843611",
          "exception": false,
          "start_time": "2023-10-31T07:42:34.825054",
          "status": "completed"
        },
        "tags": []
      },
      "source": [
        "Wordcloud of ham category"
      ]
    },
    {
      "cell_type": "code",
      "execution_count": null,
      "id": "07e5ad8d",
      "metadata": {
        "execution": {
          "iopub.execute_input": "2023-10-31T07:42:34.884016Z",
          "iopub.status.busy": "2023-10-31T07:42:34.883026Z",
          "iopub.status.idle": "2023-10-31T07:42:37.850722Z",
          "shell.execute_reply": "2023-10-31T07:42:37.849822Z"
        },
        "id": "07e5ad8d",
        "papermill": {
          "duration": 2.995332,
          "end_time": "2023-10-31T07:42:37.858151",
          "exception": false,
          "start_time": "2023-10-31T07:42:34.862819",
          "status": "completed"
        },
        "tags": []
      },
      "outputs": [],
      "source": [
        "#generate wordcloud plot for not-spam messages\n",
        "ham_wc=wc.generate(email_df[email_df[\"target\"]==1][\"transformed_message\"].str.cat(sep=\" \"))\n",
        "plt.figure(figsize=(20,10))\n",
        "plt.imshow(ham_wc)\n",
        "plt.show()"
      ]
    },
    {
      "cell_type": "code",
      "execution_count": null,
      "id": "ca67f82b",
      "metadata": {
        "execution": {
          "iopub.execute_input": "2023-10-31T07:42:37.913862Z",
          "iopub.status.busy": "2023-10-31T07:42:37.913135Z",
          "iopub.status.idle": "2023-10-31T07:42:37.921181Z",
          "shell.execute_reply": "2023-10-31T07:42:37.920279Z"
        },
        "id": "ca67f82b",
        "papermill": {
          "duration": 0.037946,
          "end_time": "2023-10-31T07:42:37.923117",
          "exception": false,
          "start_time": "2023-10-31T07:42:37.885171",
          "status": "completed"
        },
        "tags": []
      },
      "outputs": [],
      "source": [
        "#used words in spam messages\n",
        "spam_corpus=list()\n",
        "for msg in email_df[email_df['target']==0][\"transformed_message\"].to_list():\n",
        "    for word in msg.split():\n",
        "        spam_corpus.append(word)"
      ]
    },
    {
      "cell_type": "code",
      "execution_count": null,
      "id": "44b3d54b",
      "metadata": {
        "execution": {
          "iopub.execute_input": "2023-10-31T07:42:37.977265Z",
          "iopub.status.busy": "2023-10-31T07:42:37.976490Z",
          "iopub.status.idle": "2023-10-31T07:42:37.982264Z",
          "shell.execute_reply": "2023-10-31T07:42:37.981355Z"
        },
        "id": "44b3d54b",
        "papermill": {
          "duration": 0.035014,
          "end_time": "2023-10-31T07:42:37.984373",
          "exception": false,
          "start_time": "2023-10-31T07:42:37.949359",
          "status": "completed"
        },
        "tags": []
      },
      "outputs": [],
      "source": [
        "len(spam_corpus)"
      ]
    },
    {
      "cell_type": "code",
      "execution_count": null,
      "id": "07963fd8",
      "metadata": {
        "execution": {
          "iopub.execute_input": "2023-10-31T07:42:38.040976Z",
          "iopub.status.busy": "2023-10-31T07:42:38.040333Z",
          "iopub.status.idle": "2023-10-31T07:42:38.053152Z",
          "shell.execute_reply": "2023-10-31T07:42:38.051557Z"
        },
        "id": "07963fd8",
        "papermill": {
          "duration": 0.04411,
          "end_time": "2023-10-31T07:42:38.055267",
          "exception": false,
          "start_time": "2023-10-31T07:42:38.011157",
          "status": "completed"
        },
        "tags": []
      },
      "outputs": [],
      "source": [
        "#print the most common 50 words from the spam category messages\n",
        "from collections import Counter\n",
        "spam_top_50_common_words=pd.DataFrame(Counter(spam_corpus).most_common(50))\n",
        "print(spam_top_50_common_words)"
      ]
    },
    {
      "cell_type": "code",
      "execution_count": null,
      "id": "70120b9d",
      "metadata": {
        "execution": {
          "iopub.execute_input": "2023-10-31T07:42:38.119150Z",
          "iopub.status.busy": "2023-10-31T07:42:38.118179Z",
          "iopub.status.idle": "2023-10-31T07:42:38.133699Z",
          "shell.execute_reply": "2023-10-31T07:42:38.132948Z"
        },
        "id": "70120b9d",
        "papermill": {
          "duration": 0.049372,
          "end_time": "2023-10-31T07:42:38.135803",
          "exception": false,
          "start_time": "2023-10-31T07:42:38.086431",
          "status": "completed"
        },
        "tags": []
      },
      "outputs": [],
      "source": [
        "#used words in ham messages\n",
        "ham_corpus=list()\n",
        "for msg in email_df[email_df['target']==1][\"transformed_message\"].to_list():\n",
        "    for word in msg.split():\n",
        "        ham_corpus.append(word)"
      ]
    },
    {
      "cell_type": "code",
      "execution_count": null,
      "id": "f107268a",
      "metadata": {
        "execution": {
          "iopub.execute_input": "2023-10-31T07:42:38.193240Z",
          "iopub.status.busy": "2023-10-31T07:42:38.192686Z",
          "iopub.status.idle": "2023-10-31T07:42:38.198019Z",
          "shell.execute_reply": "2023-10-31T07:42:38.197057Z"
        },
        "id": "f107268a",
        "papermill": {
          "duration": 0.035632,
          "end_time": "2023-10-31T07:42:38.200150",
          "exception": false,
          "start_time": "2023-10-31T07:42:38.164518",
          "status": "completed"
        },
        "tags": []
      },
      "outputs": [],
      "source": [
        "len(ham_corpus)"
      ]
    },
    {
      "cell_type": "code",
      "execution_count": null,
      "id": "728195c0",
      "metadata": {
        "execution": {
          "iopub.execute_input": "2023-10-31T07:42:38.254759Z",
          "iopub.status.busy": "2023-10-31T07:42:38.254235Z",
          "iopub.status.idle": "2023-10-31T07:42:38.267814Z",
          "shell.execute_reply": "2023-10-31T07:42:38.266430Z"
        },
        "id": "728195c0",
        "papermill": {
          "duration": 0.042884,
          "end_time": "2023-10-31T07:42:38.269888",
          "exception": false,
          "start_time": "2023-10-31T07:42:38.227004",
          "status": "completed"
        },
        "tags": []
      },
      "outputs": [],
      "source": [
        "#most commnaly used 50 words from ham category messages\n",
        "ham_top_50_common_words=pd.DataFrame(Counter(ham_corpus).most_common(50))\n",
        "print(ham_top_50_common_words)"
      ]
    },
    {
      "cell_type": "markdown",
      "id": "4d3ada38",
      "metadata": {
        "id": "4d3ada38",
        "papermill": {
          "duration": 0.026897,
          "end_time": "2023-10-31T07:42:38.323204",
          "exception": false,
          "start_time": "2023-10-31T07:42:38.296307",
          "status": "completed"
        },
        "tags": []
      },
      "source": [
        "# Data Transformation\n",
        "    Using Count Vectorization"
      ]
    },
    {
      "cell_type": "code",
      "execution_count": null,
      "id": "167809d1",
      "metadata": {
        "execution": {
          "iopub.execute_input": "2023-10-31T07:42:38.382259Z",
          "iopub.status.busy": "2023-10-31T07:42:38.381457Z",
          "iopub.status.idle": "2023-10-31T07:42:38.558025Z",
          "shell.execute_reply": "2023-10-31T07:42:38.557145Z"
        },
        "id": "167809d1",
        "papermill": {
          "duration": 0.208759,
          "end_time": "2023-10-31T07:42:38.560680",
          "exception": false,
          "start_time": "2023-10-31T07:42:38.351921",
          "status": "completed"
        },
        "tags": []
      },
      "outputs": [],
      "source": [
        "from sklearn.feature_extraction.text import CountVectorizer\n",
        "cVector=CountVectorizer() #CountVectorizer is used to convert text into numeric array\n",
        "x=cVector.fit_transform(email_df[\"transformed_message\"]).toarray()"
      ]
    },
    {
      "cell_type": "code",
      "execution_count": null,
      "id": "65627eb5",
      "metadata": {
        "execution": {
          "iopub.execute_input": "2023-10-31T07:42:38.618412Z",
          "iopub.status.busy": "2023-10-31T07:42:38.618060Z",
          "iopub.status.idle": "2023-10-31T07:42:38.622248Z",
          "shell.execute_reply": "2023-10-31T07:42:38.621504Z"
        },
        "id": "65627eb5",
        "papermill": {
          "duration": 0.03526,
          "end_time": "2023-10-31T07:42:38.624211",
          "exception": false,
          "start_time": "2023-10-31T07:42:38.588951",
          "status": "completed"
        },
        "tags": []
      },
      "outputs": [],
      "source": [
        "#seperating target column\n",
        "y=email_df['target']"
      ]
    },
    {
      "cell_type": "code",
      "execution_count": null,
      "id": "621ef093",
      "metadata": {
        "execution": {
          "iopub.execute_input": "2023-10-31T07:42:38.681091Z",
          "iopub.status.busy": "2023-10-31T07:42:38.680474Z",
          "iopub.status.idle": "2023-10-31T07:42:38.901563Z",
          "shell.execute_reply": "2023-10-31T07:42:38.900227Z"
        },
        "id": "621ef093",
        "papermill": {
          "duration": 0.253015,
          "end_time": "2023-10-31T07:42:38.905319",
          "exception": false,
          "start_time": "2023-10-31T07:42:38.652304",
          "status": "completed"
        },
        "tags": []
      },
      "outputs": [],
      "source": [
        "#check the distribution of target variable using Pie chart\n",
        "plt.pie(y.value_counts().values,labels=[\"Not Spam\",\"Spam\"],autopct=\"%0.2f%%\")\n",
        "plt.show()"
      ]
    },
    {
      "cell_type": "markdown",
      "id": "d5b1c47f",
      "metadata": {
        "id": "d5b1c47f",
        "papermill": {
          "duration": 0.03332,
          "end_time": "2023-10-31T07:42:38.996190",
          "exception": false,
          "start_time": "2023-10-31T07:42:38.962870",
          "status": "completed"
        },
        "tags": []
      },
      "source": [
        "Conclusion : as we can see our dataset is imbalanced."
      ]
    },
    {
      "cell_type": "markdown",
      "id": "5913c009",
      "metadata": {
        "id": "5913c009",
        "papermill": {
          "duration": 0.02757,
          "end_time": "2023-10-31T07:42:39.053032",
          "exception": false,
          "start_time": "2023-10-31T07:42:39.025462",
          "status": "completed"
        },
        "tags": []
      },
      "source": [
        "# Spliting data into Training and Testing sets into 80/20 ratio"
      ]
    },
    {
      "cell_type": "code",
      "execution_count": null,
      "id": "7f744a2c",
      "metadata": {
        "execution": {
          "iopub.execute_input": "2023-10-31T07:42:39.108917Z",
          "iopub.status.busy": "2023-10-31T07:42:39.108572Z",
          "iopub.status.idle": "2023-10-31T07:42:39.290875Z",
          "shell.execute_reply": "2023-10-31T07:42:39.289918Z"
        },
        "id": "7f744a2c",
        "papermill": {
          "duration": 0.212369,
          "end_time": "2023-10-31T07:42:39.293047",
          "exception": false,
          "start_time": "2023-10-31T07:42:39.080678",
          "status": "completed"
        },
        "tags": []
      },
      "outputs": [],
      "source": [
        "from sklearn.model_selection import train_test_split\n",
        "x_train,x_test,y_train,y_test=train_test_split(x,y,test_size=0.2,random_state=43)\n",
        "x_train.shape,y_train.shape,x_test.shape,y_test.shape"
      ]
    },
    {
      "cell_type": "code",
      "execution_count": null,
      "id": "c59d6637",
      "metadata": {
        "execution": {
          "iopub.execute_input": "2023-10-31T07:42:39.351997Z",
          "iopub.status.busy": "2023-10-31T07:42:39.351591Z",
          "iopub.status.idle": "2023-10-31T07:42:39.359354Z",
          "shell.execute_reply": "2023-10-31T07:42:39.358541Z"
        },
        "id": "c59d6637",
        "papermill": {
          "duration": 0.039826,
          "end_time": "2023-10-31T07:42:39.361371",
          "exception": false,
          "start_time": "2023-10-31T07:42:39.321545",
          "status": "completed"
        },
        "tags": []
      },
      "outputs": [],
      "source": [
        "from sklearn.metrics import accuracy_score,precision_score,recall_score,f1_score,confusion_matrix,classification_report\n",
        "\n",
        "#function to evaluate the performance of model\n",
        "def evaluate_model_performance(model,x_test,y_test):\n",
        "    y_pred=model.predict(x_test)\n",
        "    print(\"Accurary Score : {}\".format(np.round(accuracy_score(y_test,y_pred)*100,decimals=2)))\n",
        "    print(\"Precision Score : {}\".format(np.round(precision_score(y_test,y_pred)*100,decimals=2)))\n",
        "    print(\"Recall Score : {}\".format(np.round(recall_score(y_test,y_pred)*100,decimals=2)))\n",
        "    print(\"F1 Score : {}\".format(np.round(f1_score(y_test,y_pred)*100,decimals=2)))\n",
        "    cm=confusion_matrix(y_test,y_pred)\n",
        "    sns.heatmap(cm,fmt=\"d\",annot=True,cmap=\"rainbow\")\n",
        "    plt.show()\n",
        "    print(\"*Classification Report*********************************************\")\n",
        "    print(classification_report(y_test,y_pred))"
      ]
    },
    {
      "cell_type": "code",
      "execution_count": null,
      "id": "e0eab4f5",
      "metadata": {
        "execution": {
          "iopub.execute_input": "2023-10-31T07:42:39.418998Z",
          "iopub.status.busy": "2023-10-31T07:42:39.418143Z",
          "iopub.status.idle": "2023-10-31T07:42:40.848109Z",
          "shell.execute_reply": "2023-10-31T07:42:40.846528Z"
        },
        "id": "e0eab4f5",
        "papermill": {
          "duration": 1.46173,
          "end_time": "2023-10-31T07:42:40.850858",
          "exception": false,
          "start_time": "2023-10-31T07:42:39.389128",
          "status": "completed"
        },
        "tags": []
      },
      "outputs": [],
      "source": [
        "#import models\n",
        "from sklearn.linear_model import LogisticRegression\n",
        "from sklearn.naive_bayes import MultinomialNB\n",
        "from sklearn.svm import SVC\n",
        "from sklearn.neighbors import KNeighborsClassifier\n",
        "from sklearn.tree import DecisionTreeClassifier\n",
        "from sklearn.ensemble import RandomForestClassifier\n",
        "from sklearn.ensemble import AdaBoostClassifier\n",
        "from sklearn.ensemble import GradientBoostingClassifier\n",
        "from lightgbm import LGBMClassifier\n",
        "from xgboost import XGBClassifier\n",
        "from sklearn.model_selection import cross_val_score"
      ]
    },
    {
      "cell_type": "code",
      "execution_count": null,
      "id": "d59c81de",
      "metadata": {
        "execution": {
          "iopub.execute_input": "2023-10-31T07:42:40.909635Z",
          "iopub.status.busy": "2023-10-31T07:42:40.909293Z",
          "iopub.status.idle": "2023-10-31T07:43:26.641063Z",
          "shell.execute_reply": "2023-10-31T07:43:26.640057Z"
        },
        "id": "d59c81de",
        "papermill": {
          "duration": 45.763727,
          "end_time": "2023-10-31T07:43:26.643251",
          "exception": false,
          "start_time": "2023-10-31T07:42:40.879524",
          "status": "completed"
        },
        "tags": []
      },
      "outputs": [],
      "source": [
        "from sklearn.model_selection import StratifiedKFold\n",
        "from imblearn.over_sampling import RandomOverSampler\n",
        "\n",
        "# Define models\n",
        "models = {\n",
        "    \"lr\":LogisticRegression(),\n",
        "    \"nb\":MultinomialNB(),\n",
        "    \"svm\":SVC(),\n",
        "    \"knn\":KNeighborsClassifier(),\n",
        "    \"cart\":DecisionTreeClassifier(),\n",
        "    \"rf\":RandomForestClassifier(),\n",
        "    \"ad\":AdaBoostClassifier(),\n",
        "    \"gb\":GradientBoostingClassifier(),\n",
        "    \"xgbc\":XGBClassifier()\n",
        "}\n",
        "\n",
        "# Define oversampler for dealing with imbalance\n",
        "oversampler = RandomOverSampler()\n",
        "\n",
        "# Define cross-validation strategy for imbalanced data\n",
        "cv = StratifiedKFold(n_splits=5, shuffle=True, random_state=42)\n",
        "\n",
        "model_scores=list()\n",
        "# Loop through each model and evaluate its performance\n",
        "for model_name, model in models.items():\n",
        "    # Apply oversampling to training data\n",
        "    X_resampled, y_resampled = oversampler.fit_resample(x, y)\n",
        "\n",
        "    # Perform cross-validation\n",
        "    scores = cross_val_score(model, X_resampled[:500], y_resampled[:500], cv=cv, scoring=\"f1_micro\")\n",
        "    print(model_name,\" : \",np.round(np.mean(scores)*100,decimals=2))\n",
        "    model_scores.append(scores)\n",
        "# boxplot algorithm comparison\n",
        "fig = plt.figure()\n",
        "fig.suptitle('Algorithm Comparison')\n",
        "ax = fig.add_subplot(111)\n",
        "plt.boxplot(model_scores)\n",
        "ax.set_xticklabels(models.keys())\n",
        "plt.show()"
      ]
    },
    {
      "cell_type": "code",
      "execution_count": null,
      "id": "735e37b2",
      "metadata": {
        "execution": {
          "iopub.execute_input": "2023-10-31T07:43:26.761971Z",
          "iopub.status.busy": "2023-10-31T07:43:26.760627Z",
          "iopub.status.idle": "2023-10-31T07:43:27.149317Z",
          "shell.execute_reply": "2023-10-31T07:43:27.148047Z"
        },
        "id": "735e37b2",
        "papermill": {
          "duration": 0.42206,
          "end_time": "2023-10-31T07:43:27.153246",
          "exception": false,
          "start_time": "2023-10-31T07:43:26.731186",
          "status": "completed"
        },
        "tags": []
      },
      "outputs": [],
      "source": [
        "#training our final Multinomial Naive Bayes model\n",
        "model=MultinomialNB()\n",
        "model.fit(x_train,y_train)\n",
        "print(\"Model Training score : \",model.score(x_train,y_train))"
      ]
    },
    {
      "cell_type": "code",
      "execution_count": null,
      "id": "c3fb36ce",
      "metadata": {
        "execution": {
          "iopub.execute_input": "2023-10-31T07:43:27.271054Z",
          "iopub.status.busy": "2023-10-31T07:43:27.270639Z",
          "iopub.status.idle": "2023-10-31T07:43:27.671188Z",
          "shell.execute_reply": "2023-10-31T07:43:27.669917Z"
        },
        "id": "c3fb36ce",
        "papermill": {
          "duration": 0.460845,
          "end_time": "2023-10-31T07:43:27.673419",
          "exception": false,
          "start_time": "2023-10-31T07:43:27.212574",
          "status": "completed"
        },
        "tags": []
      },
      "outputs": [],
      "source": [
        "#model performance\n",
        "evaluate_model_performance(model,x_test,y_test)"
      ]
    }
  ],
  "metadata": {
    "kernelspec": {
      "display_name": "Python 3",
      "language": "python",
      "name": "python3"
    },
    "language_info": {
      "codemirror_mode": {
        "name": "ipython",
        "version": 3
      },
      "file_extension": ".py",
      "mimetype": "text/x-python",
      "name": "python",
      "nbconvert_exporter": "python",
      "pygments_lexer": "ipython3",
      "version": "3.10.12"
    },
    "papermill": {
      "default_parameters": {},
      "duration": 66.284211,
      "end_time": "2023-10-31T07:43:28.423991",
      "environment_variables": {},
      "exception": null,
      "input_path": "__notebook__.ipynb",
      "output_path": "__notebook__.ipynb",
      "parameters": {},
      "start_time": "2023-10-31T07:42:22.139780",
      "version": "2.4.0"
    },
    "colab": {
      "provenance": []
    }
  },
  "nbformat": 4,
  "nbformat_minor": 5
}